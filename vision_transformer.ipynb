{
  "cells": [
    {
      "cell_type": "markdown",
      "metadata": {
        "id": "5-f-wjA72luR"
      },
      "source": [
        "# A Vision Transformer without Attention\n",
        "\n",
        "**Author:** [Aritra Roy Gosthipaty](https://twitter.com/ariG23498), [Ritwik Raha](https://twitter.com/ritwik_raha), [Shivalika Singh](https://www.linkedin.com/in/shivalika-singh/)<br>\n",
        "**Date created:** 2022/02/24<br>\n",
        "**Last modified:** 2022/10/15<br>\n",
        "**Description:** A minimal implementation of ShiftViT."
      ]
    },
    {
      "cell_type": "markdown",
      "metadata": {
        "id": "CIzgy7x02luX"
      },
      "source": [
        "## Introduction\n",
        "\n",
        "[Vision Transformers](https://arxiv.org/abs/2010.11929) (ViTs) have sparked a wave of\n",
        "research at the intersection of Transformers and Computer Vision (CV).\n",
        "\n",
        "ViTs can simultaneously model long- and short-range dependencies, thanks to\n",
        "the Multi-Head Self-Attention mechanism in the Transformer block. Many researchers believe\n",
        "that the success of ViTs are purely due to the attention layer, and they seldom\n",
        "think about other parts of the ViT model.\n",
        "\n",
        "In the academic paper\n",
        "[When Shift Operation Meets Vision Transformer: An Extremely Simple Alternative to Attention Mechanism](https://arxiv.org/abs/2201.10801)\n",
        "the authors propose to demystify the success of ViTs with the introduction of a **NO\n",
        "PARAMETER** operation in place of the attention operation. They swap the attention\n",
        "operation with a shifting operation.\n",
        "\n",
        "In this example, we minimally implement the paper with close alignement to the author's\n",
        "[official implementation](https://github.com/microsoft/SPACH/blob/main/models/shiftvit.py).\n",
        "\n",
        "This example requires TensorFlow 2.9 or higher, as well as TensorFlow Addons, which can\n",
        "be installed using the following command:"
      ]
    },
    {
      "cell_type": "code",
      "execution_count": 1,
      "metadata": {
        "id": "eh9FzD3j2luY",
        "outputId": "94295955-e32a-47a4-86f6-ec88137d435f",
        "colab": {
          "base_uri": "https://localhost:8080/"
        }
      },
      "outputs": [
        {
          "output_type": "stream",
          "name": "stdout",
          "text": [
            "\u001b[?25l     \u001b[90m━━━━━━━━━━━━━━━━━━━━━━━━━━━━━━━━━━━━━━━━\u001b[0m \u001b[32m0.0/611.8 kB\u001b[0m \u001b[31m?\u001b[0m eta \u001b[36m-:--:--\u001b[0m\r\u001b[2K     \u001b[91m━━━━\u001b[0m\u001b[90m╺\u001b[0m\u001b[90m━━━━━━━━━━━━━━━━━━━━━━━━━━━━━━━━━━━\u001b[0m \u001b[32m61.4/611.8 kB\u001b[0m \u001b[31m1.9 MB/s\u001b[0m eta \u001b[36m0:00:01\u001b[0m\r\u001b[2K     \u001b[91m━━━━━━━━━━━━━━━━━━━━━━━\u001b[0m\u001b[90m╺\u001b[0m\u001b[90m━━━━━━━━━━━━━━━━\u001b[0m \u001b[32m358.4/611.8 kB\u001b[0m \u001b[31m5.4 MB/s\u001b[0m eta \u001b[36m0:00:01\u001b[0m\r\u001b[2K     \u001b[91m━━━━━━━━━━━━━━━━━━━━━━━━━━━━━━━━━━━━━━━\u001b[0m\u001b[91m╸\u001b[0m \u001b[32m604.2/611.8 kB\u001b[0m \u001b[31m6.8 MB/s\u001b[0m eta \u001b[36m0:00:01\u001b[0m\r\u001b[2K     \u001b[90m━━━━━━━━━━━━━━━━━━━━━━━━━━━━━━━━━━━━━━━━\u001b[0m \u001b[32m611.8/611.8 kB\u001b[0m \u001b[31m5.8 MB/s\u001b[0m eta \u001b[36m0:00:00\u001b[0m\n",
            "\u001b[?25h"
          ]
        }
      ],
      "source": [
        "!pip install -qq -U tensorflow-addons"
      ]
    },
    {
      "cell_type": "markdown",
      "metadata": {
        "id": "f36533TG2lub"
      },
      "source": [
        "## Setup and imports"
      ]
    },
    {
      "cell_type": "code",
      "execution_count": 2,
      "metadata": {
        "id": "M0i-yLBi2lub",
        "outputId": "d43d36ce-f3a4-42b7-b521-ec57fc45c03f",
        "colab": {
          "base_uri": "https://localhost:8080/"
        }
      },
      "outputs": [
        {
          "output_type": "stream",
          "name": "stderr",
          "text": [
            "/usr/local/lib/python3.10/dist-packages/tensorflow_addons/utils/tfa_eol_msg.py:23: UserWarning: \n",
            "\n",
            "TensorFlow Addons (TFA) has ended development and introduction of new features.\n",
            "TFA has entered a minimal maintenance and release mode until a planned end of life in May 2024.\n",
            "Please modify downstream libraries to take dependencies from other repositories in our TensorFlow community (e.g. Keras, Keras-CV, and Keras-NLP). \n",
            "\n",
            "For more information see: https://github.com/tensorflow/addons/issues/2807 \n",
            "\n",
            "  warnings.warn(\n"
          ]
        }
      ],
      "source": [
        "import numpy as np\n",
        "import matplotlib.pyplot as plt\n",
        "\n",
        "import tensorflow as tf\n",
        "from tensorflow import keras\n",
        "from tensorflow.keras import layers\n",
        "import tensorflow_addons as tfa\n",
        "\n",
        "import pathlib\n",
        "import glob\n",
        "\n",
        "# Setting seed for reproducibiltiy\n",
        "SEED = 42\n",
        "keras.utils.set_random_seed(SEED)"
      ]
    },
    {
      "cell_type": "markdown",
      "metadata": {
        "id": "3iL1s4l92luc"
      },
      "source": [
        "## Hyperparameters\n",
        "\n",
        "These are the hyperparameters that we have chosen for the experiment.\n",
        "Please feel free to tune them."
      ]
    },
    {
      "cell_type": "code",
      "execution_count": 3,
      "metadata": {
        "id": "c26PpFbV2luc"
      },
      "outputs": [],
      "source": [
        "\n",
        "class Config(object):\n",
        "    # DATA\n",
        "    batch_size = 256\n",
        "    buffer_size = batch_size * 2\n",
        "    input_shape = (32, 32, 3)\n",
        "    num_classes = 10\n",
        "\n",
        "    # AUGMENTATION\n",
        "    image_size = 48\n",
        "\n",
        "    # ARCHITECTURE\n",
        "    patch_size = 4\n",
        "    projected_dim = 96\n",
        "    num_shift_blocks_per_stages = [2, 4, 8, 2]\n",
        "    epsilon = 1e-5\n",
        "    stochastic_depth_rate = 0.2\n",
        "    mlp_dropout_rate = 0.2\n",
        "    num_div = 12\n",
        "    shift_pixel = 1\n",
        "    mlp_expand_ratio = 2\n",
        "\n",
        "    # OPTIMIZER\n",
        "    lr_start = 1e-5\n",
        "    lr_max = 1e-3\n",
        "    weight_decay = 1e-4\n",
        "\n",
        "    # TRAINING\n",
        "    epochs = 100\n",
        "\n",
        "    # INFERENCE\n",
        "    label_map = {\n",
        "        0: \"airplane\",\n",
        "        1: \"automobile\",\n",
        "        2: \"bird\",\n",
        "        3: \"cat\",\n",
        "        4: \"deer\",\n",
        "        5: \"dog\",\n",
        "        6: \"frog\",\n",
        "        7: \"horse\",\n",
        "        8: \"ship\",\n",
        "        9: \"truck\",\n",
        "    }\n",
        "    tf_ds_batch_size = 20\n",
        "\n",
        "\n",
        "config = Config()"
      ]
    },
    {
      "cell_type": "markdown",
      "metadata": {
        "id": "2bEaBt_J2lud"
      },
      "source": [
        "## Load the CIFAR-10 dataset\n",
        "\n",
        "We use the CIFAR-10 dataset for our experiments."
      ]
    },
    {
      "cell_type": "code",
      "execution_count": 4,
      "metadata": {
        "id": "xcDZIH7k2lue",
        "outputId": "4c6ecd3a-dc0e-40a0-940d-dbd9d31eabe9",
        "colab": {
          "base_uri": "https://localhost:8080/"
        }
      },
      "outputs": [
        {
          "output_type": "stream",
          "name": "stdout",
          "text": [
            "Downloading data from https://www.cs.toronto.edu/~kriz/cifar-10-python.tar.gz\n",
            "170498071/170498071 [==============================] - 4s 0us/step\n",
            "Training samples: 40000\n",
            "Validation samples: 10000\n",
            "Testing samples: 10000\n"
          ]
        }
      ],
      "source": [
        "(x_train, y_train), (x_test, y_test) = keras.datasets.cifar10.load_data()\n",
        "(x_train, y_train), (x_val, y_val) = (\n",
        "    (x_train[:40000], y_train[:40000]),\n",
        "    (x_train[40000:], y_train[40000:]),\n",
        ")\n",
        "print(f\"Training samples: {len(x_train)}\")\n",
        "print(f\"Validation samples: {len(x_val)}\")\n",
        "print(f\"Testing samples: {len(x_test)}\")\n",
        "\n",
        "AUTO = tf.data.AUTOTUNE\n",
        "train_ds = tf.data.Dataset.from_tensor_slices((x_train, y_train))\n",
        "train_ds = train_ds.shuffle(config.buffer_size).batch(config.batch_size).prefetch(AUTO)\n",
        "\n",
        "val_ds = tf.data.Dataset.from_tensor_slices((x_val, y_val))\n",
        "val_ds = val_ds.batch(config.batch_size).prefetch(AUTO)\n",
        "\n",
        "test_ds = tf.data.Dataset.from_tensor_slices((x_test, y_test))\n",
        "test_ds = test_ds.batch(config.batch_size).prefetch(AUTO)"
      ]
    },
    {
      "cell_type": "markdown",
      "metadata": {
        "id": "Hk6Omcd_2luf"
      },
      "source": [
        "## Data Augmentation\n",
        "\n",
        "The augmentation pipeline consists of:\n",
        "\n",
        "- Rescaling\n",
        "- Resizing\n",
        "- Random cropping\n",
        "- Random horizontal flipping\n",
        "\n",
        "_Note_: The image data augmentation layers do not apply\n",
        "data transformations at inference time. This means that\n",
        "when these layers are called with `training=False` they\n",
        "behave differently. Refer to the\n",
        "[documentation](https://keras.io/api/layers/preprocessing_layers/image_augmentation/)\n",
        "for more details."
      ]
    },
    {
      "cell_type": "code",
      "execution_count": 5,
      "metadata": {
        "id": "wW-hO_l42luf"
      },
      "outputs": [],
      "source": [
        "\n",
        "def get_augmentation_model():\n",
        "    \"\"\"Build the data augmentation model.\"\"\"\n",
        "    data_augmentation = keras.Sequential(\n",
        "        [\n",
        "            layers.Resizing(config.input_shape[0] + 20, config.input_shape[0] + 20),\n",
        "            layers.RandomCrop(config.image_size, config.image_size),\n",
        "            layers.RandomFlip(\"horizontal\"),\n",
        "            layers.Rescaling(1 / 255.0),\n",
        "        ]\n",
        "    )\n",
        "    return data_augmentation\n"
      ]
    },
    {
      "cell_type": "markdown",
      "metadata": {
        "id": "VPerCjV02luf"
      },
      "source": [
        "## The ShiftViT architecture\n",
        "\n",
        "In this section, we build the architecture proposed in\n",
        "[the ShiftViT paper](https://arxiv.org/abs/2201.10801).\n",
        "\n",
        "| ![ShiftViT Architecture](https://i.imgur.com/CHU40HX.png) |\n",
        "| :--: |\n",
        "| Figure 1: The entire architecutre of ShiftViT.\n",
        "[Source](https://arxiv.org/abs/2201.10801) |\n",
        "\n",
        "The architecture as shown in Fig. 1, is inspired by\n",
        "[Swin Transformer: Hierarchical Vision Transformer using Shifted Windows](https://arxiv.org/abs/2103.14030).\n",
        "Here the authors propose a modular architecture with 4 stages. Each stage works on its\n",
        "own spatial size, creating a hierarchical architecture.\n",
        "\n",
        "An input image of size `HxWx3` is split into non-overlapping patches of size `4x4`.\n",
        "This is done via the patchify layer which results in individual tokens of feature size `48`\n",
        "(`4x4x3`). Each stage comprises two parts:\n",
        "\n",
        "1. Embedding Generation\n",
        "2. Stacked Shift Blocks\n",
        "\n",
        "We discuss the stages and the modules in detail in what follows.\n",
        "\n",
        "_Note_: Compared to the [official implementation](https://github.com/microsoft/SPACH/blob/main/models/shiftvit.py)\n",
        "we restructure some key components to better fit the Keras API."
      ]
    },
    {
      "cell_type": "markdown",
      "metadata": {
        "id": "LzCoIoaa2lug"
      },
      "source": [
        "### The ShiftViT Block\n",
        "\n",
        "| ![ShiftViT block](https://i.imgur.com/IDe35vo.gif) |\n",
        "| :--: |\n",
        "| Figure 2: From the Model to a Shift Block. |\n",
        "\n",
        "Each stage in the ShiftViT architecture comprises of a Shift Block as shown in Fig 2.\n",
        "\n",
        "| ![Shift Vit Block](https://i.imgur.com/0q13pLu.png) |\n",
        "| :--: |\n",
        "| Figure 3: The Shift ViT Block. [Source](https://arxiv.org/abs/2201.10801) |\n",
        "\n",
        "The Shift Block as shown in Fig. 3, comprises of the following:\n",
        "\n",
        "1. Shift Operation\n",
        "2. Linear Normalization\n",
        "3. MLP Layer"
      ]
    },
    {
      "cell_type": "markdown",
      "metadata": {
        "id": "2So_tlYa2lug"
      },
      "source": [
        "#### The MLP block\n",
        "\n",
        "The MLP block is intended to be a stack of densely-connected layers"
      ]
    },
    {
      "cell_type": "code",
      "execution_count": 6,
      "metadata": {
        "id": "5mXTN5jl2luh"
      },
      "outputs": [],
      "source": [
        "\n",
        "class MLP(layers.Layer):\n",
        "    \"\"\"Get the MLP layer for each shift block.\n",
        "\n",
        "    Args:\n",
        "        mlp_expand_ratio (int): The ratio with which the first feature map is expanded.\n",
        "        mlp_dropout_rate (float): The rate for dropout.\n",
        "    \"\"\"\n",
        "\n",
        "    def __init__(self, mlp_expand_ratio, mlp_dropout_rate, **kwargs):\n",
        "        super().__init__(**kwargs)\n",
        "        self.mlp_expand_ratio = mlp_expand_ratio\n",
        "        self.mlp_dropout_rate = mlp_dropout_rate\n",
        "\n",
        "    def build(self, input_shape):\n",
        "        input_channels = input_shape[-1]\n",
        "        initial_filters = int(self.mlp_expand_ratio * input_channels)\n",
        "\n",
        "        self.mlp = keras.Sequential(\n",
        "            [\n",
        "                layers.Dense(\n",
        "                    units=initial_filters,\n",
        "                    activation=tf.nn.gelu,\n",
        "                ),\n",
        "                layers.Dropout(rate=self.mlp_dropout_rate),\n",
        "                layers.Dense(units=input_channels),\n",
        "                layers.Dropout(rate=self.mlp_dropout_rate),\n",
        "            ]\n",
        "        )\n",
        "\n",
        "    def call(self, x):\n",
        "        x = self.mlp(x)\n",
        "        return x\n"
      ]
    },
    {
      "cell_type": "markdown",
      "metadata": {
        "id": "H3BlXnYy2luh"
      },
      "source": [
        "#### The DropPath layer\n",
        "\n",
        "Stochastic depth is a regularization technique that randomly drops a set of\n",
        "layers. During inference, the layers are kept as they are. It is very\n",
        "similar to Dropout, but it operates on a block of layers rather\n",
        "than on individual nodes present inside a layer."
      ]
    },
    {
      "cell_type": "code",
      "execution_count": 7,
      "metadata": {
        "id": "PSrmdoP_2luh"
      },
      "outputs": [],
      "source": [
        "\n",
        "class DropPath(layers.Layer):\n",
        "    \"\"\"Drop Path also known as the Stochastic Depth layer.\n",
        "\n",
        "    Refernece:\n",
        "        - https://keras.io/examples/vision/cct/#stochastic-depth-for-regularization\n",
        "        - github.com:rwightman/pytorch-image-models\n",
        "    \"\"\"\n",
        "\n",
        "    def __init__(self, drop_path_prob, **kwargs):\n",
        "        super().__init__(**kwargs)\n",
        "        self.drop_path_prob = drop_path_prob\n",
        "\n",
        "    def call(self, x, training=False):\n",
        "        if training:\n",
        "            keep_prob = 1 - self.drop_path_prob\n",
        "            shape = (tf.shape(x)[0],) + (1,) * (len(tf.shape(x)) - 1)\n",
        "            random_tensor = keep_prob + tf.random.uniform(shape, 0, 1)\n",
        "            random_tensor = tf.floor(random_tensor)\n",
        "            return (x / keep_prob) * random_tensor\n",
        "        return x\n"
      ]
    },
    {
      "cell_type": "markdown",
      "metadata": {
        "id": "wbMXWFfF2lui"
      },
      "source": [
        "#### Block\n",
        "\n",
        "The most important operation in this paper is the **shift operation**. In this section,\n",
        "we describe the shift operation and compare it with its original implementation provided\n",
        "by the authors.\n",
        "\n",
        "A generic feature map is assumed to have the shape `[N, H, W, C]`. Here we choose a\n",
        "`num_div` parameter that decides the division size of the channels. The first 4 divisions\n",
        "are shifted (1 pixel) in the left, right, up, and down direction. The remaining splits\n",
        "are kept as is. After partial shifting the shifted channels are padded and the overflown\n",
        "pixels are chopped off. This completes the partial shifting operation.\n",
        "\n",
        "In the original implementation, the code is approximately:\n",
        "\n",
        "```python\n",
        "out[:, g * 0:g * 1, :, :-1] = x[:, g * 0:g * 1, :, 1:]  # shift left\n",
        "out[:, g * 1:g * 2, :, 1:] = x[:, g * 1:g * 2, :, :-1]  # shift right\n",
        "out[:, g * 2:g * 3, :-1, :] = x[:, g * 2:g * 3, 1:, :]  # shift up\n",
        "out[:, g * 3:g * 4, 1:, :] = x[:, g * 3:g * 4, :-1, :]  # shift down\n",
        "\n",
        "out[:, g * 4:, :, :] = x[:, g * 4:, :, :]  # no shift\n",
        "```\n",
        "\n",
        "In TensorFlow it would be infeasible for us to assign shifted channels to a tensor in the\n",
        "middle of the training process. This is why we have resorted to the following procedure:\n",
        "\n",
        "1. Split the channels with the `num_div` parameter.\n",
        "2. Select each of the first four spilts and shift and pad them in the respective\n",
        "directions.\n",
        "3. After shifting and padding, we concatenate the channel back.\n",
        "\n",
        "| ![Manim rendered animation for shift operation](https://i.imgur.com/PReeULP.gif) |\n",
        "| :--: |\n",
        "| Figure 4: The TensorFlow style shifting |\n",
        "\n",
        "The entire procedure is explained in the Fig. 4."
      ]
    },
    {
      "cell_type": "code",
      "execution_count": 8,
      "metadata": {
        "id": "VTa0xwp_2lui"
      },
      "outputs": [],
      "source": [
        "\n",
        "class ShiftViTBlock(layers.Layer):\n",
        "    \"\"\"A unit ShiftViT Block\n",
        "\n",
        "    Args:\n",
        "        shift_pixel (int): The number of pixels to shift. Default to 1.\n",
        "        mlp_expand_ratio (int): The ratio with which MLP features are\n",
        "            expanded. Default to 2.\n",
        "        mlp_dropout_rate (float): The dropout rate used in MLP.\n",
        "        num_div (int): The number of divisions of the feature map's channel.\n",
        "            Totally, 4/num_div of channels will be shifted. Defaults to 12.\n",
        "        epsilon (float): Epsilon constant.\n",
        "        drop_path_prob (float): The drop probability for drop path.\n",
        "    \"\"\"\n",
        "\n",
        "    def __init__(\n",
        "        self,\n",
        "        epsilon,\n",
        "        drop_path_prob,\n",
        "        mlp_dropout_rate,\n",
        "        num_div=12,\n",
        "        shift_pixel=1,\n",
        "        mlp_expand_ratio=2,\n",
        "        **kwargs,\n",
        "    ):\n",
        "        super().__init__(**kwargs)\n",
        "        self.shift_pixel = shift_pixel\n",
        "        self.mlp_expand_ratio = mlp_expand_ratio\n",
        "        self.mlp_dropout_rate = mlp_dropout_rate\n",
        "        self.num_div = num_div\n",
        "        self.epsilon = epsilon\n",
        "        self.drop_path_prob = drop_path_prob\n",
        "\n",
        "    def build(self, input_shape):\n",
        "        self.H = input_shape[1]\n",
        "        self.W = input_shape[2]\n",
        "        self.C = input_shape[3]\n",
        "        self.layer_norm = layers.LayerNormalization(epsilon=self.epsilon)\n",
        "        self.drop_path = (\n",
        "            DropPath(drop_path_prob=self.drop_path_prob)\n",
        "            if self.drop_path_prob > 0.0\n",
        "            else layers.Activation(\"linear\")\n",
        "        )\n",
        "        self.mlp = MLP(\n",
        "            mlp_expand_ratio=self.mlp_expand_ratio,\n",
        "            mlp_dropout_rate=self.mlp_dropout_rate,\n",
        "        )\n",
        "\n",
        "    def get_shift_pad(self, x, mode):\n",
        "        \"\"\"Shifts the channels according to the mode chosen.\"\"\"\n",
        "        if mode == \"left\":\n",
        "            offset_height = 0\n",
        "            offset_width = 0\n",
        "            target_height = 0\n",
        "            target_width = self.shift_pixel\n",
        "        elif mode == \"right\":\n",
        "            offset_height = 0\n",
        "            offset_width = self.shift_pixel\n",
        "            target_height = 0\n",
        "            target_width = self.shift_pixel\n",
        "        elif mode == \"up\":\n",
        "            offset_height = 0\n",
        "            offset_width = 0\n",
        "            target_height = self.shift_pixel\n",
        "            target_width = 0\n",
        "        else:\n",
        "            offset_height = self.shift_pixel\n",
        "            offset_width = 0\n",
        "            target_height = self.shift_pixel\n",
        "            target_width = 0\n",
        "        crop = tf.image.crop_to_bounding_box(\n",
        "            x,\n",
        "            offset_height=offset_height,\n",
        "            offset_width=offset_width,\n",
        "            target_height=self.H - target_height,\n",
        "            target_width=self.W - target_width,\n",
        "        )\n",
        "        shift_pad = tf.image.pad_to_bounding_box(\n",
        "            crop,\n",
        "            offset_height=offset_height,\n",
        "            offset_width=offset_width,\n",
        "            target_height=self.H,\n",
        "            target_width=self.W,\n",
        "        )\n",
        "        return shift_pad\n",
        "\n",
        "    def call(self, x, training=False):\n",
        "        # Split the feature maps\n",
        "        x_splits = tf.split(x, num_or_size_splits=self.C // self.num_div, axis=-1)\n",
        "\n",
        "        # Shift the feature maps\n",
        "        x_splits[0] = self.get_shift_pad(x_splits[0], mode=\"left\")\n",
        "        x_splits[1] = self.get_shift_pad(x_splits[1], mode=\"right\")\n",
        "        x_splits[2] = self.get_shift_pad(x_splits[2], mode=\"up\")\n",
        "        x_splits[3] = self.get_shift_pad(x_splits[3], mode=\"down\")\n",
        "\n",
        "        # Concatenate the shifted and unshifted feature maps\n",
        "        x = tf.concat(x_splits, axis=-1)\n",
        "\n",
        "        # Add the residual connection\n",
        "        shortcut = x\n",
        "        x = shortcut + self.drop_path(self.mlp(self.layer_norm(x)), training=training)\n",
        "        return x\n"
      ]
    },
    {
      "cell_type": "markdown",
      "metadata": {
        "id": "J9AGApbk2luj"
      },
      "source": [
        "### The ShiftViT blocks\n",
        "\n",
        "| ![Shift Blokcs](https://i.imgur.com/FKy5NnD.png) |\n",
        "| :--: |\n",
        "| Figure 5: Shift Blocks in the architecture. [Source](https://arxiv.org/abs/2201.10801) |\n",
        "\n",
        "Each stage of the architecture has shift blocks as shown in Fig.5. Each of these blocks\n",
        "contain a variable number of stacked ShiftViT block (as built in the earlier section).\n",
        "\n",
        "Shift blocks are followed by a PatchMerging layer that scales down feature inputs. The\n",
        "PatchMerging layer helps in the pyramidal structure of the model."
      ]
    },
    {
      "cell_type": "markdown",
      "metadata": {
        "id": "_Vre2X8m2luk"
      },
      "source": [
        "#### The PatchMerging layer\n",
        "\n",
        "This layer merges the two adjacent tokens. This layer helps in scaling the features down\n",
        "spatially and increasing the features up channel wise. We use a Conv2D layer to merge the\n",
        "patches."
      ]
    },
    {
      "cell_type": "code",
      "execution_count": 9,
      "metadata": {
        "id": "lvPgdFBD2luk"
      },
      "outputs": [],
      "source": [
        "\n",
        "class PatchMerging(layers.Layer):\n",
        "    \"\"\"The Patch Merging layer.\n",
        "\n",
        "    Args:\n",
        "        epsilon (float): The epsilon constant.\n",
        "    \"\"\"\n",
        "\n",
        "    def __init__(self, epsilon, **kwargs):\n",
        "        super().__init__(**kwargs)\n",
        "        self.epsilon = epsilon\n",
        "\n",
        "    def build(self, input_shape):\n",
        "        filters = 2 * input_shape[-1]\n",
        "        self.reduction = layers.Conv2D(\n",
        "            filters=filters, kernel_size=2, strides=2, padding=\"same\", use_bias=False\n",
        "        )\n",
        "        self.layer_norm = layers.LayerNormalization(epsilon=self.epsilon)\n",
        "\n",
        "    def call(self, x):\n",
        "        # Apply the patch merging algorithm on the feature maps\n",
        "        x = self.layer_norm(x)\n",
        "        x = self.reduction(x)\n",
        "        return x\n"
      ]
    },
    {
      "cell_type": "markdown",
      "metadata": {
        "id": "1UqraZWS2lul"
      },
      "source": [
        "#### Stacked Shift Blocks\n",
        "\n",
        "Each stage will have a variable number of stacked ShiftViT Blocks, as suggested in\n",
        "the paper. This is a generic layer that will contain the stacked shift vit blocks\n",
        "with the patch merging layer as well. Combining the two operations (shift ViT\n",
        "block and patch merging) is a design choice we picked for better code reusability."
      ]
    },
    {
      "cell_type": "code",
      "execution_count": 10,
      "metadata": {
        "id": "lMIp0frl2lul"
      },
      "outputs": [],
      "source": [
        "# Note: This layer will have a different depth of stacking\n",
        "# for different stages on the model.\n",
        "class StackedShiftBlocks(layers.Layer):\n",
        "    \"\"\"The layer containing stacked ShiftViTBlocks.\n",
        "\n",
        "    Args:\n",
        "        epsilon (float): The epsilon constant.\n",
        "        mlp_dropout_rate (float): The dropout rate used in the MLP block.\n",
        "        num_shift_blocks (int): The number of shift vit blocks for this stage.\n",
        "        stochastic_depth_rate (float): The maximum drop path rate chosen.\n",
        "        is_merge (boolean): A flag that determines the use of the Patch Merge\n",
        "            layer after the shift vit blocks.\n",
        "        num_div (int): The division of channels of the feature map. Defaults to 12.\n",
        "        shift_pixel (int): The number of pixels to shift. Defaults to 1.\n",
        "        mlp_expand_ratio (int): The ratio with which the initial dense layer of\n",
        "            the MLP is expanded Defaults to 2.\n",
        "    \"\"\"\n",
        "\n",
        "    def __init__(\n",
        "        self,\n",
        "        epsilon,\n",
        "        mlp_dropout_rate,\n",
        "        num_shift_blocks,\n",
        "        stochastic_depth_rate,\n",
        "        is_merge,\n",
        "        num_div=12,\n",
        "        shift_pixel=1,\n",
        "        mlp_expand_ratio=2,\n",
        "        **kwargs,\n",
        "    ):\n",
        "        super().__init__(**kwargs)\n",
        "        self.epsilon = epsilon\n",
        "        self.mlp_dropout_rate = mlp_dropout_rate\n",
        "        self.num_shift_blocks = num_shift_blocks\n",
        "        self.stochastic_depth_rate = stochastic_depth_rate\n",
        "        self.is_merge = is_merge\n",
        "        self.num_div = num_div\n",
        "        self.shift_pixel = shift_pixel\n",
        "        self.mlp_expand_ratio = mlp_expand_ratio\n",
        "\n",
        "    def build(self, input_shapes):\n",
        "        # Calculate stochastic depth probabilities.\n",
        "        # Reference: https://keras.io/examples/vision/cct/#the-final-cct-model\n",
        "        dpr = [\n",
        "            x\n",
        "            for x in np.linspace(\n",
        "                start=0, stop=self.stochastic_depth_rate, num=self.num_shift_blocks\n",
        "            )\n",
        "        ]\n",
        "\n",
        "        # Build the shift blocks as a list of ShiftViT Blocks\n",
        "        self.shift_blocks = list()\n",
        "        for num in range(self.num_shift_blocks):\n",
        "            self.shift_blocks.append(\n",
        "                ShiftViTBlock(\n",
        "                    num_div=self.num_div,\n",
        "                    epsilon=self.epsilon,\n",
        "                    drop_path_prob=dpr[num],\n",
        "                    mlp_dropout_rate=self.mlp_dropout_rate,\n",
        "                    shift_pixel=self.shift_pixel,\n",
        "                    mlp_expand_ratio=self.mlp_expand_ratio,\n",
        "                )\n",
        "            )\n",
        "        if self.is_merge:\n",
        "            self.patch_merge = PatchMerging(epsilon=self.epsilon)\n",
        "\n",
        "    def call(self, x, training=False):\n",
        "        for shift_block in self.shift_blocks:\n",
        "            x = shift_block(x, training=training)\n",
        "        if self.is_merge:\n",
        "            x = self.patch_merge(x)\n",
        "        return x\n",
        "\n",
        "    # Since this is a custom layer, we need to overwrite get_config()\n",
        "    # so that model can be easily saved & loaded after training\n",
        "    def get_config(self):\n",
        "        config = super().get_config()\n",
        "        config.update(\n",
        "            {\n",
        "                \"epsilon\": self.epsilon,\n",
        "                \"mlp_dropout_rate\": self.mlp_dropout_rate,\n",
        "                \"num_shift_blocks\": self.num_shift_blocks,\n",
        "                \"stochastic_depth_rate\": self.stochastic_depth_rate,\n",
        "                \"is_merge\": self.is_merge,\n",
        "                \"num_div\": self.num_div,\n",
        "                \"shift_pixel\": self.shift_pixel,\n",
        "                \"mlp_expand_ratio\": self.mlp_expand_ratio,\n",
        "            }\n",
        "        )\n",
        "        return config\n"
      ]
    },
    {
      "cell_type": "markdown",
      "metadata": {
        "id": "gQgwaG0T2lul"
      },
      "source": [
        "## The ShiftViT model\n",
        "\n",
        "Build the ShiftViT custom model."
      ]
    },
    {
      "cell_type": "code",
      "execution_count": 11,
      "metadata": {
        "id": "pGQTHfWS2lul"
      },
      "outputs": [],
      "source": [
        "\n",
        "class ShiftViTModel(keras.Model):\n",
        "    \"\"\"The ShiftViT Model.\n",
        "\n",
        "    Args:\n",
        "        data_augmentation (keras.Model): A data augmentation model.\n",
        "        projected_dim (int): The dimension to which the patches of the image are\n",
        "            projected.\n",
        "        patch_size (int): The patch size of the images.\n",
        "        num_shift_blocks_per_stages (list[int]): A list of all the number of shit\n",
        "            blocks per stage.\n",
        "        epsilon (float): The epsilon constant.\n",
        "        mlp_dropout_rate (float): The dropout rate used in the MLP block.\n",
        "        stochastic_depth_rate (float): The maximum drop rate probability.\n",
        "        num_div (int): The number of divisions of the channesl of the feature\n",
        "            map. Defaults to 12.\n",
        "        shift_pixel (int): The number of pixel to shift. Default to 1.\n",
        "        mlp_expand_ratio (int): The ratio with which the initial mlp dense layer\n",
        "            is expanded to. Defaults to 2.\n",
        "    \"\"\"\n",
        "\n",
        "    def __init__(\n",
        "        self,\n",
        "        data_augmentation,\n",
        "        projected_dim,\n",
        "        patch_size,\n",
        "        num_shift_blocks_per_stages,\n",
        "        epsilon,\n",
        "        mlp_dropout_rate,\n",
        "        stochastic_depth_rate,\n",
        "        num_div=12,\n",
        "        shift_pixel=1,\n",
        "        mlp_expand_ratio=2,\n",
        "        **kwargs,\n",
        "    ):\n",
        "        super().__init__(**kwargs)\n",
        "        self.data_augmentation = data_augmentation\n",
        "        self.patch_projection = layers.Conv2D(\n",
        "            filters=projected_dim,\n",
        "            kernel_size=patch_size,\n",
        "            strides=patch_size,\n",
        "            padding=\"same\",\n",
        "        )\n",
        "        self.stages = list()\n",
        "        for index, num_shift_blocks in enumerate(num_shift_blocks_per_stages):\n",
        "            if index == len(num_shift_blocks_per_stages) - 1:\n",
        "                # This is the last stage, do not use the patch merge here.\n",
        "                is_merge = False\n",
        "            else:\n",
        "                is_merge = True\n",
        "            # Build the stages.\n",
        "            self.stages.append(\n",
        "                StackedShiftBlocks(\n",
        "                    epsilon=epsilon,\n",
        "                    mlp_dropout_rate=mlp_dropout_rate,\n",
        "                    num_shift_blocks=num_shift_blocks,\n",
        "                    stochastic_depth_rate=stochastic_depth_rate,\n",
        "                    is_merge=is_merge,\n",
        "                    num_div=num_div,\n",
        "                    shift_pixel=shift_pixel,\n",
        "                    mlp_expand_ratio=mlp_expand_ratio,\n",
        "                )\n",
        "            )\n",
        "        self.global_avg_pool = layers.GlobalAveragePooling2D()\n",
        "\n",
        "        self.classifier = layers.Dense(config.num_classes)\n",
        "\n",
        "    def get_config(self):\n",
        "        config = super().get_config()\n",
        "        config.update(\n",
        "            {\n",
        "                \"data_augmentation\": self.data_augmentation,\n",
        "                \"patch_projection\": self.patch_projection,\n",
        "                \"stages\": self.stages,\n",
        "                \"global_avg_pool\": self.global_avg_pool,\n",
        "                \"classifier\": self.classifier,\n",
        "            }\n",
        "        )\n",
        "        return config\n",
        "\n",
        "    def _calculate_loss(self, data, training=False):\n",
        "        (images, labels) = data\n",
        "\n",
        "        # Augment the images\n",
        "        augmented_images = self.data_augmentation(images, training=training)\n",
        "\n",
        "        # Create patches and project the pathces.\n",
        "        projected_patches = self.patch_projection(augmented_images)\n",
        "\n",
        "        # Pass through the stages\n",
        "        x = projected_patches\n",
        "        for stage in self.stages:\n",
        "            x = stage(x, training=training)\n",
        "\n",
        "        # Get the logits.\n",
        "        x = self.global_avg_pool(x)\n",
        "        logits = self.classifier(x)\n",
        "\n",
        "        # Calculate the loss and return it.\n",
        "        total_loss = self.compiled_loss(labels, logits)\n",
        "        return total_loss, labels, logits\n",
        "\n",
        "    def train_step(self, inputs):\n",
        "        with tf.GradientTape() as tape:\n",
        "            total_loss, labels, logits = self._calculate_loss(\n",
        "                data=inputs, training=True\n",
        "            )\n",
        "\n",
        "        # Apply gradients.\n",
        "        train_vars = [\n",
        "            self.data_augmentation.trainable_variables,\n",
        "            self.patch_projection.trainable_variables,\n",
        "            self.global_avg_pool.trainable_variables,\n",
        "            self.classifier.trainable_variables,\n",
        "        ]\n",
        "        train_vars = train_vars + [stage.trainable_variables for stage in self.stages]\n",
        "\n",
        "        # Optimize the gradients.\n",
        "        grads = tape.gradient(total_loss, train_vars)\n",
        "        trainable_variable_list = []\n",
        "        for (grad, var) in zip(grads, train_vars):\n",
        "            for g, v in zip(grad, var):\n",
        "                trainable_variable_list.append((g, v))\n",
        "        self.optimizer.apply_gradients(trainable_variable_list)\n",
        "\n",
        "        # Update the metrics\n",
        "        self.compiled_metrics.update_state(labels, logits)\n",
        "        return {m.name: m.result() for m in self.metrics}\n",
        "\n",
        "    def test_step(self, data):\n",
        "        _, labels, logits = self._calculate_loss(data=data, training=False)\n",
        "\n",
        "        # Update the metrics\n",
        "        self.compiled_metrics.update_state(labels, logits)\n",
        "        return {m.name: m.result() for m in self.metrics}\n",
        "\n",
        "    def call(self, images):\n",
        "        augmented_images = self.data_augmentation(images)\n",
        "        x = self.patch_projection(augmented_images)\n",
        "        for stage in self.stages:\n",
        "            x = stage(x, training=False)\n",
        "        x = self.global_avg_pool(x)\n",
        "        logits = self.classifier(x)\n",
        "        return logits\n"
      ]
    },
    {
      "cell_type": "markdown",
      "metadata": {
        "id": "l3OMMLK-2lum"
      },
      "source": [
        "## Instantiate the model"
      ]
    },
    {
      "cell_type": "code",
      "execution_count": 12,
      "metadata": {
        "id": "Z9QSV4HM2lum"
      },
      "outputs": [],
      "source": [
        "model = ShiftViTModel(\n",
        "    data_augmentation=get_augmentation_model(),\n",
        "    projected_dim=config.projected_dim,\n",
        "    patch_size=config.patch_size,\n",
        "    num_shift_blocks_per_stages=config.num_shift_blocks_per_stages,\n",
        "    epsilon=config.epsilon,\n",
        "    mlp_dropout_rate=config.mlp_dropout_rate,\n",
        "    stochastic_depth_rate=config.stochastic_depth_rate,\n",
        "    num_div=config.num_div,\n",
        "    shift_pixel=config.shift_pixel,\n",
        "    mlp_expand_ratio=config.mlp_expand_ratio,\n",
        ")"
      ]
    },
    {
      "cell_type": "markdown",
      "metadata": {
        "id": "SQNt8cVO2lum"
      },
      "source": [
        "## Learning rate schedule\n",
        "\n",
        "In many experiments, we want to warm up the model with a slowly increasing learning rate\n",
        "and then cool down the model with a slowly decaying learning rate. In the warmup cosine\n",
        "decay, the learning rate linearly increases for the warmup steps and then decays with a\n",
        "cosine decay."
      ]
    },
    {
      "cell_type": "code",
      "execution_count": 13,
      "metadata": {
        "id": "2fDk17mk2lum"
      },
      "outputs": [],
      "source": [
        "# Some code is taken from:\n",
        "# https://www.kaggle.com/ashusma/training-rfcx-tensorflow-tpu-effnet-b2.\n",
        "class WarmUpCosine(keras.optimizers.schedules.LearningRateSchedule):\n",
        "    \"\"\"A LearningRateSchedule that uses a warmup cosine decay schedule.\"\"\"\n",
        "\n",
        "    def __init__(self, lr_start, lr_max, warmup_steps, total_steps):\n",
        "        \"\"\"\n",
        "        Args:\n",
        "            lr_start: The initial learning rate\n",
        "            lr_max: The maximum learning rate to which lr should increase to in\n",
        "                the warmup steps\n",
        "            warmup_steps: The number of steps for which the model warms up\n",
        "            total_steps: The total number of steps for the model training\n",
        "        \"\"\"\n",
        "        super().__init__()\n",
        "        self.lr_start = lr_start\n",
        "        self.lr_max = lr_max\n",
        "        self.warmup_steps = warmup_steps\n",
        "        self.total_steps = total_steps\n",
        "        self.pi = tf.constant(np.pi)\n",
        "\n",
        "    def __call__(self, step):\n",
        "        # Check whether the total number of steps is larger than the warmup\n",
        "        # steps. If not, then throw a value error.\n",
        "        if self.total_steps < self.warmup_steps:\n",
        "            raise ValueError(\n",
        "                f\"Total number of steps {self.total_steps} must be\"\n",
        "                + f\"larger or equal to warmup steps {self.warmup_steps}.\"\n",
        "            )\n",
        "\n",
        "        # `cos_annealed_lr` is a graph that increases to 1 from the initial\n",
        "        # step to the warmup step. After that this graph decays to -1 at the\n",
        "        # final step mark.\n",
        "        cos_annealed_lr = tf.cos(\n",
        "            self.pi\n",
        "            * (tf.cast(step, tf.float32) - self.warmup_steps)\n",
        "            / tf.cast(self.total_steps - self.warmup_steps, tf.float32)\n",
        "        )\n",
        "\n",
        "        # Shift the mean of the `cos_annealed_lr` graph to 1. Now the grpah goes\n",
        "        # from 0 to 2. Normalize the graph with 0.5 so that now it goes from 0\n",
        "        # to 1. With the normalized graph we scale it with `lr_max` such that\n",
        "        # it goes from 0 to `lr_max`\n",
        "        learning_rate = 0.5 * self.lr_max * (1 + cos_annealed_lr)\n",
        "\n",
        "        # Check whether warmup_steps is more than 0.\n",
        "        if self.warmup_steps > 0:\n",
        "            # Check whether lr_max is larger that lr_start. If not, throw a value\n",
        "            # error.\n",
        "            if self.lr_max < self.lr_start:\n",
        "                raise ValueError(\n",
        "                    f\"lr_start {self.lr_start} must be smaller or\"\n",
        "                    + f\"equal to lr_max {self.lr_max}.\"\n",
        "                )\n",
        "\n",
        "            # Calculate the slope with which the learning rate should increase\n",
        "            # in the warumup schedule. The formula for slope is m = ((b-a)/steps)\n",
        "            slope = (self.lr_max - self.lr_start) / self.warmup_steps\n",
        "\n",
        "            # With the formula for a straight line (y = mx+c) build the warmup\n",
        "            # schedule\n",
        "            warmup_rate = slope * tf.cast(step, tf.float32) + self.lr_start\n",
        "\n",
        "            # When the current step is lesser that warmup steps, get the line\n",
        "            # graph. When the current step is greater than the warmup steps, get\n",
        "            # the scaled cos graph.\n",
        "            learning_rate = tf.where(\n",
        "                step < self.warmup_steps, warmup_rate, learning_rate\n",
        "            )\n",
        "\n",
        "        # When the current step is more that the total steps, return 0 else return\n",
        "        # the calculated graph.\n",
        "        return tf.where(\n",
        "            step > self.total_steps, 0.0, learning_rate, name=\"learning_rate\"\n",
        "        )\n",
        "\n",
        "    def get_config(self):\n",
        "        config = {\n",
        "            \"lr_start\": self.lr_start,\n",
        "            \"lr_max\": self.lr_max,\n",
        "            \"total_steps\": self.total_steps,\n",
        "            \"warmup_steps\": self.warmup_steps,\n",
        "        }\n",
        "        return config\n"
      ]
    },
    {
      "cell_type": "markdown",
      "metadata": {
        "id": "OGO0Y7f12lun"
      },
      "source": [
        "## Compile and train the model"
      ]
    },
    {
      "cell_type": "code",
      "execution_count": 14,
      "metadata": {
        "id": "hyL26yAT2lun",
        "outputId": "1db9c4bc-8113-43b7-998d-fa37fbad26ec",
        "colab": {
          "base_uri": "https://localhost:8080/"
        }
      },
      "outputs": [
        {
          "output_type": "stream",
          "name": "stdout",
          "text": [
            "Epoch 1/100\n",
            "157/157 [==============================] - 52s 191ms/step - loss: 2.3725 - accuracy: 0.1493 - top-5-accuracy: 0.6082 - val_loss: 2.1262 - val_accuracy: 0.2647 - val_top-5-accuracy: 0.7758\n",
            "Epoch 2/100\n",
            "157/157 [==============================] - 26s 166ms/step - loss: 1.9447 - accuracy: 0.2919 - top-5-accuracy: 0.8089 - val_loss: 1.9171 - val_accuracy: 0.3461 - val_top-5-accuracy: 0.8727\n",
            "Epoch 3/100\n",
            "157/157 [==============================] - 26s 167ms/step - loss: 1.7015 - accuracy: 0.3846 - top-5-accuracy: 0.8764 - val_loss: 1.5880 - val_accuracy: 0.4434 - val_top-5-accuracy: 0.9021\n",
            "Epoch 4/100\n",
            "157/157 [==============================] - 26s 167ms/step - loss: 1.5642 - accuracy: 0.4336 - top-5-accuracy: 0.9057 - val_loss: 1.4331 - val_accuracy: 0.4861 - val_top-5-accuracy: 0.9242\n",
            "Epoch 5/100\n",
            "157/157 [==============================] - 26s 166ms/step - loss: 1.4580 - accuracy: 0.4733 - top-5-accuracy: 0.9201 - val_loss: 1.4172 - val_accuracy: 0.4932 - val_top-5-accuracy: 0.9332\n",
            "Epoch 6/100\n",
            "157/157 [==============================] - 26s 166ms/step - loss: 1.3759 - accuracy: 0.5061 - top-5-accuracy: 0.9319 - val_loss: 1.3523 - val_accuracy: 0.5273 - val_top-5-accuracy: 0.9375\n",
            "Epoch 7/100\n",
            "157/157 [==============================] - 26s 166ms/step - loss: 1.3097 - accuracy: 0.5310 - top-5-accuracy: 0.9401 - val_loss: 1.3015 - val_accuracy: 0.5399 - val_top-5-accuracy: 0.9425\n",
            "Epoch 8/100\n",
            "157/157 [==============================] - 27s 170ms/step - loss: 1.2536 - accuracy: 0.5510 - top-5-accuracy: 0.9456 - val_loss: 1.1906 - val_accuracy: 0.5841 - val_top-5-accuracy: 0.9526\n",
            "Epoch 9/100\n",
            "157/157 [==============================] - 26s 166ms/step - loss: 1.2037 - accuracy: 0.5675 - top-5-accuracy: 0.9513 - val_loss: 1.1903 - val_accuracy: 0.5781 - val_top-5-accuracy: 0.9511\n",
            "Epoch 10/100\n",
            "157/157 [==============================] - 26s 167ms/step - loss: 1.1610 - accuracy: 0.5855 - top-5-accuracy: 0.9561 - val_loss: 1.1892 - val_accuracy: 0.5870 - val_top-5-accuracy: 0.9494\n",
            "Epoch 11/100\n",
            "157/157 [==============================] - 26s 167ms/step - loss: 1.1205 - accuracy: 0.6026 - top-5-accuracy: 0.9569 - val_loss: 1.0872 - val_accuracy: 0.6117 - val_top-5-accuracy: 0.9622\n",
            "Epoch 12/100\n",
            "157/157 [==============================] - 26s 167ms/step - loss: 1.0754 - accuracy: 0.6178 - top-5-accuracy: 0.9617 - val_loss: 1.2408 - val_accuracy: 0.5755 - val_top-5-accuracy: 0.9426\n",
            "Epoch 13/100\n",
            "157/157 [==============================] - 27s 169ms/step - loss: 1.0642 - accuracy: 0.6232 - top-5-accuracy: 0.9640 - val_loss: 1.0573 - val_accuracy: 0.6245 - val_top-5-accuracy: 0.9641\n",
            "Epoch 14/100\n",
            "157/157 [==============================] - 26s 167ms/step - loss: 1.0102 - accuracy: 0.6416 - top-5-accuracy: 0.9668 - val_loss: 1.0305 - val_accuracy: 0.6410 - val_top-5-accuracy: 0.9653\n",
            "Epoch 15/100\n",
            "157/157 [==============================] - 26s 167ms/step - loss: 1.0005 - accuracy: 0.6459 - top-5-accuracy: 0.9680 - val_loss: 1.0245 - val_accuracy: 0.6462 - val_top-5-accuracy: 0.9649\n",
            "Epoch 16/100\n",
            "157/157 [==============================] - 26s 166ms/step - loss: 0.9632 - accuracy: 0.6586 - top-5-accuracy: 0.9706 - val_loss: 0.9813 - val_accuracy: 0.6568 - val_top-5-accuracy: 0.9693\n",
            "Epoch 17/100\n",
            "157/157 [==============================] - 26s 166ms/step - loss: 0.9209 - accuracy: 0.6725 - top-5-accuracy: 0.9738 - val_loss: 0.9491 - val_accuracy: 0.6685 - val_top-5-accuracy: 0.9709\n",
            "Epoch 18/100\n",
            "157/157 [==============================] - 26s 166ms/step - loss: 0.8717 - accuracy: 0.6912 - top-5-accuracy: 0.9775 - val_loss: 0.8936 - val_accuracy: 0.6914 - val_top-5-accuracy: 0.9748\n",
            "Epoch 19/100\n",
            "157/157 [==============================] - 26s 165ms/step - loss: 0.8492 - accuracy: 0.6999 - top-5-accuracy: 0.9781 - val_loss: 0.8517 - val_accuracy: 0.7018 - val_top-5-accuracy: 0.9758\n",
            "Epoch 20/100\n",
            "157/157 [==============================] - 26s 166ms/step - loss: 0.8342 - accuracy: 0.7035 - top-5-accuracy: 0.9792 - val_loss: 0.8188 - val_accuracy: 0.7178 - val_top-5-accuracy: 0.9791\n",
            "Epoch 21/100\n",
            "157/157 [==============================] - 26s 166ms/step - loss: 0.7877 - accuracy: 0.7223 - top-5-accuracy: 0.9812 - val_loss: 0.8423 - val_accuracy: 0.7128 - val_top-5-accuracy: 0.9768\n",
            "Epoch 22/100\n",
            "157/157 [==============================] - 26s 166ms/step - loss: 0.7580 - accuracy: 0.7339 - top-5-accuracy: 0.9841 - val_loss: 0.8233 - val_accuracy: 0.7149 - val_top-5-accuracy: 0.9776\n",
            "Epoch 23/100\n",
            "157/157 [==============================] - 26s 166ms/step - loss: 0.7466 - accuracy: 0.7343 - top-5-accuracy: 0.9845 - val_loss: 0.8357 - val_accuracy: 0.7089 - val_top-5-accuracy: 0.9770\n",
            "Epoch 24/100\n",
            "157/157 [==============================] - 26s 167ms/step - loss: 0.7220 - accuracy: 0.7448 - top-5-accuracy: 0.9859 - val_loss: 0.8770 - val_accuracy: 0.7044 - val_top-5-accuracy: 0.9747\n",
            "Epoch 25/100\n",
            "157/157 [==============================] - 26s 165ms/step - loss: 0.7046 - accuracy: 0.7500 - top-5-accuracy: 0.9855 - val_loss: 0.7869 - val_accuracy: 0.7317 - val_top-5-accuracy: 0.9788\n",
            "Epoch 26/100\n",
            "157/157 [==============================] - 27s 169ms/step - loss: 0.6821 - accuracy: 0.7596 - top-5-accuracy: 0.9876 - val_loss: 0.7934 - val_accuracy: 0.7343 - val_top-5-accuracy: 0.9809\n",
            "Epoch 27/100\n",
            "157/157 [==============================] - 26s 169ms/step - loss: 0.6590 - accuracy: 0.7699 - top-5-accuracy: 0.9882 - val_loss: 0.7607 - val_accuracy: 0.7390 - val_top-5-accuracy: 0.9820\n",
            "Epoch 28/100\n",
            "157/157 [==============================] - 26s 167ms/step - loss: 0.6421 - accuracy: 0.7738 - top-5-accuracy: 0.9896 - val_loss: 0.7522 - val_accuracy: 0.7477 - val_top-5-accuracy: 0.9807\n",
            "Epoch 29/100\n",
            "157/157 [==============================] - 26s 166ms/step - loss: 0.6411 - accuracy: 0.7735 - top-5-accuracy: 0.9884 - val_loss: 0.7913 - val_accuracy: 0.7363 - val_top-5-accuracy: 0.9787\n",
            "Epoch 30/100\n",
            "157/157 [==============================] - 26s 166ms/step - loss: 0.6291 - accuracy: 0.7774 - top-5-accuracy: 0.9904 - val_loss: 0.7315 - val_accuracy: 0.7539 - val_top-5-accuracy: 0.9831\n",
            "Epoch 31/100\n",
            "157/157 [==============================] - 26s 165ms/step - loss: 0.6064 - accuracy: 0.7841 - top-5-accuracy: 0.9901 - val_loss: 0.7452 - val_accuracy: 0.7478 - val_top-5-accuracy: 0.9814\n",
            "Epoch 32/100\n",
            "157/157 [==============================] - 26s 167ms/step - loss: 0.5897 - accuracy: 0.7907 - top-5-accuracy: 0.9910 - val_loss: 0.7572 - val_accuracy: 0.7482 - val_top-5-accuracy: 0.9828\n",
            "Epoch 33/100\n",
            "157/157 [==============================] - 26s 167ms/step - loss: 0.5822 - accuracy: 0.7928 - top-5-accuracy: 0.9916 - val_loss: 0.7318 - val_accuracy: 0.7532 - val_top-5-accuracy: 0.9827\n",
            "Epoch 34/100\n",
            "157/157 [==============================] - 26s 167ms/step - loss: 0.5466 - accuracy: 0.8076 - top-5-accuracy: 0.9929 - val_loss: 0.7202 - val_accuracy: 0.7597 - val_top-5-accuracy: 0.9822\n",
            "Epoch 35/100\n",
            "157/157 [==============================] - 26s 165ms/step - loss: 0.5376 - accuracy: 0.8105 - top-5-accuracy: 0.9929 - val_loss: 0.7585 - val_accuracy: 0.7552 - val_top-5-accuracy: 0.9797\n",
            "Epoch 36/100\n",
            "157/157 [==============================] - 26s 166ms/step - loss: 0.5201 - accuracy: 0.8162 - top-5-accuracy: 0.9939 - val_loss: 0.7641 - val_accuracy: 0.7561 - val_top-5-accuracy: 0.9804\n",
            "Epoch 37/100\n",
            "157/157 [==============================] - 26s 165ms/step - loss: 0.5070 - accuracy: 0.8201 - top-5-accuracy: 0.9936 - val_loss: 0.7302 - val_accuracy: 0.7585 - val_top-5-accuracy: 0.9849\n",
            "Epoch 38/100\n",
            "157/157 [==============================] - 26s 166ms/step - loss: 0.5014 - accuracy: 0.8231 - top-5-accuracy: 0.9938 - val_loss: 0.7178 - val_accuracy: 0.7686 - val_top-5-accuracy: 0.9835\n",
            "Epoch 39/100\n",
            "157/157 [==============================] - 26s 166ms/step - loss: 0.4632 - accuracy: 0.8361 - top-5-accuracy: 0.9949 - val_loss: 0.7227 - val_accuracy: 0.7690 - val_top-5-accuracy: 0.9830\n",
            "Epoch 40/100\n",
            "157/157 [==============================] - 26s 166ms/step - loss: 0.4656 - accuracy: 0.8377 - top-5-accuracy: 0.9948 - val_loss: 0.7328 - val_accuracy: 0.7620 - val_top-5-accuracy: 0.9845\n",
            "Epoch 41/100\n",
            "157/157 [==============================] - 26s 167ms/step - loss: 0.4501 - accuracy: 0.8403 - top-5-accuracy: 0.9957 - val_loss: 0.7101 - val_accuracy: 0.7698 - val_top-5-accuracy: 0.9841\n",
            "Epoch 42/100\n",
            "157/157 [==============================] - 26s 166ms/step - loss: 0.4340 - accuracy: 0.8448 - top-5-accuracy: 0.9962 - val_loss: 0.7101 - val_accuracy: 0.7766 - val_top-5-accuracy: 0.9840\n",
            "Epoch 43/100\n",
            "157/157 [==============================] - 26s 165ms/step - loss: 0.4282 - accuracy: 0.8482 - top-5-accuracy: 0.9962 - val_loss: 0.7103 - val_accuracy: 0.7733 - val_top-5-accuracy: 0.9864\n",
            "Epoch 44/100\n",
            "157/157 [==============================] - 27s 170ms/step - loss: 0.4044 - accuracy: 0.8572 - top-5-accuracy: 0.9966 - val_loss: 0.7003 - val_accuracy: 0.7795 - val_top-5-accuracy: 0.9852\n",
            "Epoch 45/100\n",
            "157/157 [==============================] - 26s 166ms/step - loss: 0.3934 - accuracy: 0.8605 - top-5-accuracy: 0.9970 - val_loss: 0.6997 - val_accuracy: 0.7814 - val_top-5-accuracy: 0.9849\n",
            "Epoch 46/100\n",
            "157/157 [==============================] - 26s 167ms/step - loss: 0.3781 - accuracy: 0.8644 - top-5-accuracy: 0.9972 - val_loss: 0.6934 - val_accuracy: 0.7823 - val_top-5-accuracy: 0.9867\n",
            "Epoch 47/100\n",
            "157/157 [==============================] - 26s 165ms/step - loss: 0.3671 - accuracy: 0.8695 - top-5-accuracy: 0.9973 - val_loss: 0.7054 - val_accuracy: 0.7780 - val_top-5-accuracy: 0.9865\n",
            "Epoch 48/100\n",
            "157/157 [==============================] - 26s 165ms/step - loss: 0.3588 - accuracy: 0.8741 - top-5-accuracy: 0.9977 - val_loss: 0.6931 - val_accuracy: 0.7813 - val_top-5-accuracy: 0.9843\n",
            "Epoch 49/100\n",
            "157/157 [==============================] - 26s 166ms/step - loss: 0.3396 - accuracy: 0.8809 - top-5-accuracy: 0.9980 - val_loss: 0.7405 - val_accuracy: 0.7708 - val_top-5-accuracy: 0.9854\n",
            "Epoch 50/100\n",
            "157/157 [==============================] - 26s 165ms/step - loss: 0.3288 - accuracy: 0.8820 - top-5-accuracy: 0.9980 - val_loss: 0.7172 - val_accuracy: 0.7796 - val_top-5-accuracy: 0.9858\n",
            "Epoch 51/100\n",
            "157/157 [==============================] - 26s 165ms/step - loss: 0.3177 - accuracy: 0.8888 - top-5-accuracy: 0.9984 - val_loss: 0.7090 - val_accuracy: 0.7817 - val_top-5-accuracy: 0.9869\n",
            "TESTING\n",
            "40/40 [==============================] - 2s 57ms/step - loss: 0.7370 - accuracy: 0.7745 - top-5-accuracy: 0.9853\n",
            "Loss: 0.74\n",
            "Top 1 test accuracy: 77.45%\n",
            "Top 5 test accuracy: 98.53%\n"
          ]
        }
      ],
      "source": [
        "# pass sample data to the model so that input shape is available at the time of\n",
        "# saving the model\n",
        "sample_ds, _ = next(iter(train_ds))\n",
        "model(sample_ds, training=False)\n",
        "\n",
        "# Get the total number of steps for training.\n",
        "total_steps = int((len(x_train) / config.batch_size) * config.epochs)\n",
        "\n",
        "# Calculate the number of steps for warmup.\n",
        "warmup_epoch_percentage = 0.15\n",
        "warmup_steps = int(total_steps * warmup_epoch_percentage)\n",
        "\n",
        "# Initialize the warmupcosine schedule.\n",
        "scheduled_lrs = WarmUpCosine(\n",
        "    lr_start=1e-5,\n",
        "    lr_max=1e-3,\n",
        "    warmup_steps=warmup_steps,\n",
        "    total_steps=total_steps,\n",
        ")\n",
        "\n",
        "# Get the optimizer.\n",
        "optimizer = tfa.optimizers.AdamW(\n",
        "    learning_rate=scheduled_lrs, weight_decay=config.weight_decay\n",
        ")\n",
        "\n",
        "# Compile and pretrain the model.\n",
        "model.compile(\n",
        "    optimizer=optimizer,\n",
        "    loss=keras.losses.SparseCategoricalCrossentropy(from_logits=True),\n",
        "    metrics=[\n",
        "        keras.metrics.SparseCategoricalAccuracy(name=\"accuracy\"),\n",
        "        keras.metrics.SparseTopKCategoricalAccuracy(5, name=\"top-5-accuracy\"),\n",
        "    ],\n",
        ")\n",
        "\n",
        "# Train the model\n",
        "history = model.fit(\n",
        "    train_ds,\n",
        "    epochs=config.epochs,\n",
        "    validation_data=val_ds,\n",
        "    callbacks=[\n",
        "        keras.callbacks.EarlyStopping(\n",
        "            monitor=\"val_accuracy\",\n",
        "            patience=5,\n",
        "            mode=\"auto\",\n",
        "        )\n",
        "    ],\n",
        ")\n",
        "\n",
        "# Evaluate the model with the test dataset.\n",
        "print(\"TESTING\")\n",
        "loss, acc_top1, acc_top5 = model.evaluate(test_ds)\n",
        "print(f\"Loss: {loss:0.2f}\")\n",
        "print(f\"Top 1 test accuracy: {acc_top1*100:0.2f}%\")\n",
        "print(f\"Top 5 test accuracy: {acc_top5*100:0.2f}%\")"
      ]
    },
    {
      "cell_type": "markdown",
      "metadata": {
        "id": "FZOZvH8j2lun"
      },
      "source": [
        "## Save trained model\n",
        "\n",
        "Since we created the model by Subclassing, we can't save the model in HDF5 format.\n",
        "\n",
        "It can be saved in TF SavedModel format only. In general, this is the recommended format for saving models as well."
      ]
    },
    {
      "cell_type": "code",
      "execution_count": 15,
      "metadata": {
        "id": "hnVWL_1e2lun"
      },
      "outputs": [],
      "source": [
        "model.save(\"ShiftViT\")"
      ]
    },
    {
      "cell_type": "markdown",
      "metadata": {
        "id": "gaQvDo5f2lun"
      },
      "source": [
        "## Model inference"
      ]
    },
    {
      "cell_type": "markdown",
      "metadata": {
        "id": "T3w3P4Uq2luo"
      },
      "source": [
        "**Download sample data for inference**"
      ]
    },
    {
      "cell_type": "code",
      "execution_count": 16,
      "metadata": {
        "id": "Y-8Hdzxg2luo"
      },
      "outputs": [],
      "source": [
        "!wget -q 'https://tinyurl.com/2p9483sw' -O inference_set.zip\n",
        "!unzip -q inference_set.zip"
      ]
    },
    {
      "cell_type": "markdown",
      "metadata": {
        "id": "Q4Gq0UbA2luo"
      },
      "source": [
        "**Load saved model**"
      ]
    },
    {
      "cell_type": "code",
      "execution_count": 17,
      "metadata": {
        "id": "O7m5G4Z82lup"
      },
      "outputs": [],
      "source": [
        "# Custom objects are not included when the model is saved.\n",
        "# At loading time, these objects need to be passed for reconstruction of the model\n",
        "saved_model = tf.keras.models.load_model(\n",
        "    \"ShiftViT\",\n",
        "    custom_objects={\"WarmUpCosine\": WarmUpCosine, \"AdamW\": tfa.optimizers.AdamW},\n",
        ")"
      ]
    },
    {
      "cell_type": "markdown",
      "metadata": {
        "id": "BfSBBMSX2luz"
      },
      "source": [
        "**Utility functions for inference**"
      ]
    },
    {
      "cell_type": "code",
      "execution_count": 18,
      "metadata": {
        "id": "Pyp_E7r42luz"
      },
      "outputs": [],
      "source": [
        "\n",
        "def process_image(img_path):\n",
        "    # read image file from string path\n",
        "    img = tf.io.read_file(img_path)\n",
        "\n",
        "    # decode jpeg to uint8 tensor\n",
        "    img = tf.io.decode_jpeg(img, channels=3)\n",
        "\n",
        "    # resize image to match input size accepted by model\n",
        "    # use `method` as `nearest` to preserve dtype of input passed to `resize()`\n",
        "    img = tf.image.resize(\n",
        "        img, [config.input_shape[0], config.input_shape[1]], method=\"nearest\"\n",
        "    )\n",
        "    return img\n",
        "\n",
        "\n",
        "def create_tf_dataset(image_dir):\n",
        "    data_dir = pathlib.Path(image_dir)\n",
        "\n",
        "    # create tf.data dataset using directory of images\n",
        "    predict_ds = tf.data.Dataset.list_files(str(data_dir / \"*.jpg\"), shuffle=False)\n",
        "\n",
        "    # use map to convert string paths to uint8 image tensors\n",
        "    # setting `num_parallel_calls' helps in processing multiple images parallely\n",
        "    predict_ds = predict_ds.map(process_image, num_parallel_calls=AUTO)\n",
        "\n",
        "    # create a Prefetch Dataset for better latency & throughput\n",
        "    predict_ds = predict_ds.batch(config.tf_ds_batch_size).prefetch(AUTO)\n",
        "    return predict_ds\n",
        "\n",
        "\n",
        "def predict(predict_ds):\n",
        "    # ShiftViT model returns logits (non-normalized predictions)\n",
        "    logits = saved_model.predict(predict_ds)\n",
        "\n",
        "    # normalize predictions by calling softmax()\n",
        "    probabilities = tf.nn.softmax(logits)\n",
        "    return probabilities\n",
        "\n",
        "\n",
        "def get_predicted_class(probabilities):\n",
        "    pred_label = np.argmax(probabilities)\n",
        "    predicted_class = config.label_map[pred_label]\n",
        "    return predicted_class\n",
        "\n",
        "\n",
        "def get_confidence_scores(probabilities):\n",
        "    # get the indices of the probability scores sorted in descending order\n",
        "    labels = np.argsort(probabilities)[::-1]\n",
        "    confidences = {\n",
        "        config.label_map[label]: np.round((probabilities[label]) * 100, 2)\n",
        "        for label in labels\n",
        "    }\n",
        "    return confidences\n"
      ]
    },
    {
      "cell_type": "markdown",
      "metadata": {
        "id": "ajnHwq7c2luz"
      },
      "source": [
        "**Get predictions**"
      ]
    },
    {
      "cell_type": "code",
      "execution_count": 19,
      "metadata": {
        "id": "uBvLvkQX2luz",
        "outputId": "b6eab265-bce3-4918-c545-a115dc2e3ec2",
        "colab": {
          "base_uri": "https://localhost:8080/"
        }
      },
      "outputs": [
        {
          "output_type": "stream",
          "name": "stdout",
          "text": [
            "1/1 [==============================] - 2s 2s/step\n",
            "probabilities: [9.9993348e-01 1.4893904e-08 8.6363212e-07 5.8065105e-08 3.6704014e-07\n",
            " 3.9287076e-09 9.9996051e-08 2.3494232e-08 6.5001164e-05 3.5184964e-08]\n",
            "{'airplane': 99.99, 'ship': 0.01, 'bird': 0.0, 'deer': 0.0, 'frog': 0.0, 'cat': 0.0, 'truck': 0.0, 'horse': 0.0, 'automobile': 0.0, 'dog': 0.0}\n"
          ]
        }
      ],
      "source": [
        "img_dir = \"inference_set\"\n",
        "predict_ds = create_tf_dataset(img_dir)\n",
        "probabilities = predict(predict_ds)\n",
        "print(f\"probabilities: {probabilities[0]}\")\n",
        "confidences = get_confidence_scores(probabilities[0])\n",
        "print(confidences)"
      ]
    },
    {
      "cell_type": "markdown",
      "metadata": {
        "id": "b6G2XbaG2luz"
      },
      "source": [
        "**View predictions**"
      ]
    },
    {
      "cell_type": "code",
      "execution_count": 20,
      "metadata": {
        "id": "8TloTaFQ2lu0",
        "outputId": "933fe027-8406-4b48-bd61-77b0b5e99fb5",
        "colab": {
          "base_uri": "https://localhost:8080/",
          "height": 557
        }
      },
      "outputs": [
        {
          "output_type": "display_data",
          "data": {
            "text/plain": [
              "<Figure size 1000x1000 with 6 Axes>"
            ],
            "image/png": "[encoded data removed]"
          },
          "metadata": {}
        }
      ],
      "source": [
        "plt.figure(figsize=(10, 10))\n",
        "for images in predict_ds:\n",
        "    for i in range(min(6, probabilities.shape[0])):\n",
        "        ax = plt.subplot(3, 3, i + 1)\n",
        "        plt.imshow(images[i].numpy().astype(\"uint8\"))\n",
        "        predicted_class = get_predicted_class(probabilities[i])\n",
        "        plt.title(predicted_class)\n",
        "        plt.axis(\"off\")"
      ]
    },
    {
      "cell_type": "markdown",
      "metadata": {
        "id": "G0ce2WSn2lu0"
      },
      "source": [
        "## Conclusion\n",
        "\n",
        "The most impactful contribution of the paper is not the novel architecture, but\n",
        "the idea that hierarchical ViTs trained with no attention can perform quite well. This\n",
        "opens up the question of how essential attention is to the performance of ViTs.\n",
        "\n",
        "For curious minds, we would suggest reading the\n",
        "[ConvNexT](https://arxiv.org/abs/2201.03545) paper which attends more to the training\n",
        "paradigms and architectural details of ViTs rather than providing a novel architecture\n",
        "based on attention.\n",
        "\n",
        "Acknowledgements:\n",
        "\n",
        "- We would like to thank [PyImageSearch](https://pyimagesearch.com) for providing us with\n",
        "resources that helped in the completion of this project.\n",
        "- We would like to thank [JarvisLabs.ai](https://jarvislabs.ai/) for providing with the\n",
        "GPU credits.\n",
        "- We would like to thank [Manim Community](https://www.manim.community/) for the manim\n",
        "library.\n",
        "- A personal note of thanks to [Puja Roychowdhury](https://twitter.com/pleb_talks) for\n",
        "helping us with the Learning Rate Schedule."
      ]
    },
    {
      "cell_type": "markdown",
      "metadata": {
        "id": "zQpH6HSl2lu0"
      },
      "source": [
        "**Example available on HuggingFace**\n",
        "\n",
        "| Trained Model | Demo |\n",
        "| :--: | :--: |\n",
        "| [![Generic badge](https://img.shields.io/badge/%F0%9F%A4%97%20Model-ShiftViT-brightgreen)](https://huggingface.co/keras-io/shiftvit) | [![Generic badge](https://img.shields.io/badge/%F0%9F%A4%97%20Space-ShiftViT-brightgreen)](https://huggingface.co/spaces/keras-io/shiftvit) |"
      ]
    }
  ],
  "metadata": {
    "accelerator": "GPU",
    "colab": {
      "name": "shiftvit",
      "provenance": [],
      "toc_visible": true
    },
    "kernelspec": {
      "display_name": "Python 3",
      "language": "python",
      "name": "python3"
    },
    "language_info": {
      "codemirror_mode": {
        "name": "ipython",
        "version": 3
      },
      "file_extension": ".py",
      "mimetype": "text/x-python",
      "name": "python",
      "nbconvert_exporter": "python",
      "pygments_lexer": "ipython3",
      "version": "3.7.0"
    }
  },
  "nbformat": 4,
  "nbformat_minor": 0
}